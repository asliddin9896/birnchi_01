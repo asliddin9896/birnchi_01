{
 "cells": [
  {
   "cell_type": "code",
   "execution_count": null,
   "id": "b349f32f",
   "metadata": {},
   "outputs": [
    {
     "name": "stdout",
     "output_type": "stream",
     "text": [
      "Kvadratlar yig‘indisi: 50\n"
     ]
    }
   ],
   "source": [
    "#1. [3,5,6] sonlar kvadratlarini yug'indisini topadigan funksiya yozing\n",
    "def sonlar(a,b,c):\n",
    "    return a**2+b**2+c**2\n",
    "\n",
    "son=sonlar(5,4,3)\n",
    "print(\"Kvadratlar yig‘indisi:\", son)\n"
   ]
  },
  {
   "cell_type": "code",
   "execution_count": 35,
   "id": "b1ef2b84",
   "metadata": {},
   "outputs": [
    {
     "name": "stdout",
     "output_type": "stream",
     "text": [
      "1 toq son\n",
      "2 Juft son\n",
      "3 toq son\n",
      "4 Juft son\n",
      "5 toq son\n",
      "6 Juft son\n",
      "7 toq son\n",
      "8 Juft son\n",
      "9 toq son\n",
      "10 Juft son\n",
      "10\n"
     ]
    }
   ],
   "source": [
    "#2. 1 dan 10 gacha bo'lgan sonlar orasidan juftlarini/toqlarini sonini topadigan funksiya yozing\n",
    "def sonlar():\n",
    "    for a in range(1,11):\n",
    "        if a%2==0:\n",
    "           print(a,\"Juft son\")\n",
    "        else:\n",
    "            a%2!=0\n",
    "            print(a,\"toq son\")\n",
    "    return a\n",
    "print(sonlar())"
   ]
  },
  {
   "cell_type": "code",
   "execution_count": 37,
   "id": "dc6a11d8",
   "metadata": {},
   "outputs": [
    {
     "name": "stdout",
     "output_type": "stream",
     "text": [
      "O‘rta arifmetik: 5.5\n"
     ]
    }
   ],
   "source": [
    "# 3. 1 dan 10 gacha bo'lgan sonlar orasidan o'rta arifmetigi/geometrigini aniqlaydigan topadigan funksiya yozing\n",
    "def orta_son():\n",
    "    a = 1 + 2 + 3 + 4 + 5 + 6 + 7 + 8 + 9 + 10\n",
    "    return a / 10\n",
    "\n",
    "natija = orta_son()\n",
    "print(\"O‘rta arifmetik:\", natija)\n"
   ]
  },
  {
   "cell_type": "code",
   "execution_count": null,
   "id": "256387b2",
   "metadata": {},
   "outputs": [],
   "source": [
    "# 4. [1,4,6] sonlar orasidan eng katta/kichik va o'rtanchasini topadigan funksiya yozing\n"
   ]
  },
  {
   "cell_type": "code",
   "execution_count": null,
   "id": "f4c53535",
   "metadata": {},
   "outputs": [],
   "source": [
    "#5. Berilgan so'zdagi unlilar sonini topadigan funksiya yozing\n",
    "def unli_son(matn):\n",
    "    unlilar = \"aeiouAEIOU\"\n",
    "    soni = 0\n",
    "    for harf in matn:\n",
    "        if harf in unlilar:\n",
    "            soni += 1\n",
    "    return soni\n",
    "\n",
    "# Funksiyani chaqirish\n",
    "soz = \"Asliddin\"\n",
    "natija = unli_son(soz)\n",
    "print(\"Unli harflar:\", natija)\n"
   ]
  },
  {
   "cell_type": "code",
   "execution_count": null,
   "id": "a24bc211",
   "metadata": {},
   "outputs": [],
   "source": []
  }
 ],
 "metadata": {
  "kernelspec": {
   "display_name": "base",
   "language": "python",
   "name": "python3"
  },
  "language_info": {
   "codemirror_mode": {
    "name": "ipython",
    "version": 3
   },
   "file_extension": ".py",
   "mimetype": "text/x-python",
   "name": "python",
   "nbconvert_exporter": "python",
   "pygments_lexer": "ipython3",
   "version": "3.8.8"
  }
 },
 "nbformat": 4,
 "nbformat_minor": 5
}

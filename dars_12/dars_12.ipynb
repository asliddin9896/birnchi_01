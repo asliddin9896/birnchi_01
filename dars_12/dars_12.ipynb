{
 "cells": [
  {
   "cell_type": "code",
   "execution_count": 25,
   "id": "f3c0b18b",
   "metadata": {},
   "outputs": [],
   "source": [
    "import pandas as pd"
   ]
  },
  {
   "cell_type": "code",
   "execution_count": 26,
   "id": "606c593c",
   "metadata": {},
   "outputs": [],
   "source": [
    "df = pd.read_csv(\"studentInfo.csv\")"
   ]
  },
  {
   "cell_type": "code",
   "execution_count": 44,
   "id": "b65f9c47",
   "metadata": {},
   "outputs": [
    {
     "name": "stdout",
     "output_type": "stream",
     "text": [
      "<class 'pandas.core.frame.DataFrame'>\n",
      "RangeIndex: 32593 entries, 0 to 32592\n",
      "Data columns (total 26 columns):\n",
      " #   Column                                         Non-Null Count  Dtype\n",
      "---  ------                                         --------------  -----\n",
      " 0   code_module                                    32593 non-null  int32\n",
      " 1   id_student                                     32593 non-null  int64\n",
      " 2   region                                         32593 non-null  int32\n",
      " 3   imd_band                                       32593 non-null  int32\n",
      " 4   num_of_prev_attempts                           32593 non-null  int64\n",
      " 5   studied_credits                                32593 non-null  int64\n",
      " 6   code_presentation_2013B                        32593 non-null  int32\n",
      " 7   code_presentation_2013J                        32593 non-null  int32\n",
      " 8   code_presentation_2014B                        32593 non-null  int32\n",
      " 9   code_presentation_2014J                        32593 non-null  int32\n",
      " 10  gender_F                                       32593 non-null  int32\n",
      " 11  gender_M                                       32593 non-null  int32\n",
      " 12  highest_education_A Level or Equivalent        32593 non-null  int32\n",
      " 13  highest_education_HE Qualification             32593 non-null  int32\n",
      " 14  highest_education_Lower Than A Level           32593 non-null  int32\n",
      " 15  highest_education_No Formal quals              32593 non-null  int32\n",
      " 16  highest_education_Post Graduate Qualification  32593 non-null  int32\n",
      " 17  age_band_0-35                                  32593 non-null  int32\n",
      " 18  age_band_35-55                                 32593 non-null  int32\n",
      " 19  age_band_55<=                                  32593 non-null  int32\n",
      " 20  disability_N                                   32593 non-null  int32\n",
      " 21  disability_Y                                   32593 non-null  int32\n",
      " 22  final_result_Distinction                       32593 non-null  int32\n",
      " 23  final_result_Fail                              32593 non-null  int32\n",
      " 24  final_result_Pass                              32593 non-null  int32\n",
      " 25  final_result_Withdrawn                         32593 non-null  int32\n",
      "dtypes: int32(23), int64(3)\n",
      "memory usage: 3.6 MB\n"
     ]
    }
   ],
   "source": [
    "df.info()"
   ]
  },
  {
   "cell_type": "code",
   "execution_count": 28,
   "metadata": {},
   "outputs": [],
   "source": [
    "from sklearn.preprocessing import LabelEncoder\n",
    "encoder=LabelEncoder()"
   ]
  },
  {
   "cell_type": "code",
   "execution_count": 29,
   "id": "0a86f7d6",
   "metadata": {},
   "outputs": [],
   "source": [
    "for col in df.columns:\n",
    "    if df[col].nunique()<=5 and df[col].dtype=='object':\n",
    "        dummies=pd.get_dummies(df[col],prefix=col,dtype='int')\n",
    "        df=pd.concat([df.drop(col,axis=1),dummies],axis=1)\n",
    "    else:\n",
    "        df[col]=encoder.fit_transform(df[col])\n",
    "\n"
   ]
  },
  {
   "cell_type": "code",
   "execution_count": 30,
   "id": "6b5b365c",
   "metadata": {},
   "outputs": [
    {
     "name": "stdout",
     "output_type": "stream",
     "text": [
      "<class 'pandas.core.frame.DataFrame'>\n",
      "RangeIndex: 32593 entries, 0 to 32592\n",
      "Data columns (total 26 columns):\n",
      " #   Column                                         Non-Null Count  Dtype\n",
      "---  ------                                         --------------  -----\n",
      " 0   code_module                                    32593 non-null  int32\n",
      " 1   id_student                                     32593 non-null  int64\n",
      " 2   region                                         32593 non-null  int32\n",
      " 3   imd_band                                       32593 non-null  int32\n",
      " 4   num_of_prev_attempts                           32593 non-null  int64\n",
      " 5   studied_credits                                32593 non-null  int64\n",
      " 6   code_presentation_2013B                        32593 non-null  int32\n",
      " 7   code_presentation_2013J                        32593 non-null  int32\n",
      " 8   code_presentation_2014B                        32593 non-null  int32\n",
      " 9   code_presentation_2014J                        32593 non-null  int32\n",
      " 10  gender_F                                       32593 non-null  int32\n",
      " 11  gender_M                                       32593 non-null  int32\n",
      " 12  highest_education_A Level or Equivalent        32593 non-null  int32\n",
      " 13  highest_education_HE Qualification             32593 non-null  int32\n",
      " 14  highest_education_Lower Than A Level           32593 non-null  int32\n",
      " 15  highest_education_No Formal quals              32593 non-null  int32\n",
      " 16  highest_education_Post Graduate Qualification  32593 non-null  int32\n",
      " 17  age_band_0-35                                  32593 non-null  int32\n",
      " 18  age_band_35-55                                 32593 non-null  int32\n",
      " 19  age_band_55<=                                  32593 non-null  int32\n",
      " 20  disability_N                                   32593 non-null  int32\n",
      " 21  disability_Y                                   32593 non-null  int32\n",
      " 22  final_result_Distinction                       32593 non-null  int32\n",
      " 23  final_result_Fail                              32593 non-null  int32\n",
      " 24  final_result_Pass                              32593 non-null  int32\n",
      " 25  final_result_Withdrawn                         32593 non-null  int32\n",
      "dtypes: int32(23), int64(3)\n",
      "memory usage: 3.6 MB\n"
     ]
    }
   ],
   "source": [
    "df.info()"
   ]
  },
  {
   "cell_type": "code",
   "execution_count": 47,
   "id": "0533e9e8",
   "metadata": {},
   "outputs": [],
   "source": [
    "x=df.drop('final_result_Pass',axis=1)"
   ]
  },
  {
   "cell_type": "code",
   "execution_count": 48,
   "id": "3d51051f",
   "metadata": {},
   "outputs": [],
   "source": [
    "y=df['final_result_Pass']"
   ]
  },
  {
   "cell_type": "code",
   "execution_count": 49,
   "id": "5c07cc5c",
   "metadata": {},
   "outputs": [],
   "source": [
    "from sklearn.model_selection import train_test_split"
   ]
  },
  {
   "cell_type": "code",
   "execution_count": 51,
   "id": "f63b23cc",
   "metadata": {},
   "outputs": [],
   "source": [
    "x_train,x_temp,y_train,y_temp=train_test_split(x,y,test_size=0.2,random_state=42)\n",
    "x_test,x_val,y_test,y_val=train_test_split(x_temp,y_temp,test_size=0.5,random_state=42)"
   ]
  },
  {
   "cell_type": "code",
   "execution_count": 52,
   "id": "702740e6",
   "metadata": {},
   "outputs": [
    {
     "data": {
      "text/plain": [
       "(26074, 25)"
      ]
     },
     "execution_count": 52,
     "metadata": {},
     "output_type": "execute_result"
    }
   ],
   "source": [
    "x_train.shape"
   ]
  },
  {
   "cell_type": "code",
   "execution_count": 53,
   "id": "e7fb5038",
   "metadata": {},
   "outputs": [
    {
     "data": {
      "text/plain": [
       "(26074,)"
      ]
     },
     "execution_count": 53,
     "metadata": {},
     "output_type": "execute_result"
    }
   ],
   "source": [
    "y_train.shape"
   ]
  },
  {
   "cell_type": "code",
   "execution_count": 54,
   "id": "4a18d93f",
   "metadata": {},
   "outputs": [
    {
     "data": {
      "text/plain": [
       "(3259, 25)"
      ]
     },
     "execution_count": 54,
     "metadata": {},
     "output_type": "execute_result"
    }
   ],
   "source": [
    "x_test.shape"
   ]
  },
  {
   "cell_type": "code",
   "execution_count": 55,
   "id": "f03c5cbb",
   "metadata": {},
   "outputs": [
    {
     "data": {
      "text/plain": [
       "(3259,)"
      ]
     },
     "execution_count": 55,
     "metadata": {},
     "output_type": "execute_result"
    }
   ],
   "source": [
    "y_test.shape"
   ]
  },
  {
   "cell_type": "code",
   "execution_count": 56,
   "id": "c917bee3",
   "metadata": {},
   "outputs": [
    {
     "data": {
      "text/plain": [
       "(3260, 25)"
      ]
     },
     "execution_count": 56,
     "metadata": {},
     "output_type": "execute_result"
    }
   ],
   "source": [
    "x_val.shape"
   ]
  },
  {
   "cell_type": "code",
   "execution_count": 57,
   "id": "e16a6740",
   "metadata": {},
   "outputs": [
    {
     "data": {
      "text/plain": [
       "(3260,)"
      ]
     },
     "execution_count": 57,
     "metadata": {},
     "output_type": "execute_result"
    }
   ],
   "source": [
    "y_val.shape"
   ]
  },
  {
   "cell_type": "code",
   "execution_count": 58,
   "id": "88bff98b",
   "metadata": {},
   "outputs": [
    {
     "data": {
      "text/plain": [
       "0        1\n",
       "1        1\n",
       "2        0\n",
       "3        1\n",
       "4        1\n",
       "        ..\n",
       "32588    0\n",
       "32589    0\n",
       "32590    1\n",
       "32591    0\n",
       "32592    0\n",
       "Name: final_result_Pass, Length: 32593, dtype: int32"
      ]
     },
     "execution_count": 58,
     "metadata": {},
     "output_type": "execute_result"
    }
   ],
   "source": [
    "y"
   ]
  },
  {
   "cell_type": "code",
   "execution_count": null,
   "id": "47fad89d",
   "metadata": {},
   "outputs": [],
   "source": []
  }
 ],
 "metadata": {
  "kernelspec": {
   "display_name": "base",
   "language": "python",
   "name": "python3"
  },
  "language_info": {
   "codemirror_mode": {
    "name": "ipython",
    "version": 3
   },
   "file_extension": ".py",
   "mimetype": "text/x-python",
   "name": "python",
   "nbconvert_exporter": "python",
   "pygments_lexer": "ipython3",
   "version": "3.8.8"
  }
 },
 "nbformat": 4,
 "nbformat_minor": 5
}
